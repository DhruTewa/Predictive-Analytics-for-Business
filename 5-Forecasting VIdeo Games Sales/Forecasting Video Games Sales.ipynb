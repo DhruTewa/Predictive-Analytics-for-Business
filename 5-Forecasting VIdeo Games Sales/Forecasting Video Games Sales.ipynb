{
 "cells": [
  {
   "cell_type": "markdown",
   "metadata": {},
   "source": [
    "# Forecasting Video Games Sales"
   ]
  },
  {
   "cell_type": "markdown",
   "metadata": {},
   "source": [
    "## The Business Problem\n",
    "\n",
    "You recently started working for a company as a supply chain analyst that creates and sells video games. Many businesses have to be on point when it comes to ordering supplies to meet the demand of its customers. An overestimation of demand leads to bloated inventory and high costs. Underestimating demand means many valued customers won't get the products they want. Your manager has tasked you to forecast monthly sales data in order to synchronize supply with demand, aid in decision making that will help build a competitive infrastructure and measure company performance. You, the supply chain analyst, are assigned to help your manager run the numbers through a time series forecasting model.\n",
    "\n",
    "> You’ve been asked to provide a forecast for the next 4 months of sales and report your findings."
   ]
  },
  {
   "cell_type": "markdown",
   "metadata": {},
   "source": [
    "## Step 1: Investigate and Prepare the Data\n",
    "\n",
    "Look at your data set and determine whether the data is appropriate to use time series models. Determine which records should be held for validation later on.\n",
    "\n",
    "> 1.\tDoes the dataset meet the criteria of a time series dataset? Make sure to explore all four key characteristics of a time series data.\n",
    "> 2.\tWhich records should be used as the holdout sample?"
   ]
  },
  {
   "cell_type": "markdown",
   "metadata": {},
   "source": [
    "## Step 2: Determine Trend, Seasonal and Error components\n",
    "\n",
    "Graph the data set and decompose the time series into its three main components: \n",
    "\n",
    "- trend \n",
    "- seasonality\n",
    "- error.\n",
    "\n",
    "> 1.\tWhat are the trend, seasonality, and error of the time series? Show how you were able to determine the components using time series plots. Include the graphs."
   ]
  },
  {
   "cell_type": "markdown",
   "metadata": {},
   "source": [
    "## Step 3: Build  Models\n",
    "\n",
    "Determine the appropriate measurements to apply to your `ARIMA` and `ETS` models and describe the errors for both models.\n",
    "\n",
    "> 1.\tWhat are the model terms for ETS? Explain why you chose those terms.\n",
    "            a.\tDescribe the in-sample errors. Use at least RMSE and MASE when examining results\n",
    "\n",
    "> 2.\tWhat are the model terms for ARIMA? Explain why you chose those terms. Graph the Auto-Correlation Function (ACF) and Partial Autocorrelation Function Plots (PACF) for the time series and seasonal component and use these graphs to justify choosing your model terms.\n",
    "            a.\tDescribe the in-sample errors. Use at least RMSE and MASE when examining results\n",
    "            b.\tRegraph ACF and PACF for both the Time Series and Seasonal Difference and include these graphs in your answer.\n"
   ]
  },
  {
   "cell_type": "markdown",
   "metadata": {},
   "source": [
    "## Step 4: Forecast\n",
    "\n",
    "Compare the in-sample error measurements to both models and compare error measurements for the holdout sample in your forecast. Choose the best fitting model and forecast the next four periods.\n",
    "\n",
    "> 1.\tWhich model did you choose? Justify your answer by showing: in-sample error measurements and forecast error measurements against the holdout sample.\n",
    "\n",
    "> 2.\tWhat is the forecast for the next four periods? Graph the results using 95% and 80% confidence intervals.\n"
   ]
  },
  {
   "cell_type": "code",
   "execution_count": null,
   "metadata": {},
   "outputs": [],
   "source": []
  }
 ],
 "metadata": {
  "kernelspec": {
   "display_name": "Python 3",
   "language": "python",
   "name": "python3"
  },
  "language_info": {
   "codemirror_mode": {
    "name": "ipython",
    "version": 3
   },
   "file_extension": ".py",
   "mimetype": "text/x-python",
   "name": "python",
   "nbconvert_exporter": "python",
   "pygments_lexer": "ipython3",
   "version": "3.7.7"
  }
 },
 "nbformat": 4,
 "nbformat_minor": 4
}
